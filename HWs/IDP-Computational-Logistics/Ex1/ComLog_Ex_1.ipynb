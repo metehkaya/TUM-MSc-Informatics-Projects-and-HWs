{
  "cells": [
    {
      "cell_type": "markdown",
      "metadata": {
        "id": "mrXN1Wx5D76D"
      },
      "source": [
        "# Assignment 1: Using Python"
      ]
    },
    {
      "cell_type": "markdown",
      "metadata": {
        "id": "X1Z0Ke5gD76I"
      },
      "source": [
        "## Exercise 1: Forecasting"
      ]
    },
    {
      "cell_type": "code",
      "execution_count": 1,
      "metadata": {
        "id": "VJkyEO86D76J"
      },
      "outputs": [],
      "source": [
        "import matplotlib.pyplot as plt"
      ]
    },
    {
      "cell_type": "code",
      "source": [
        "def forecast(initial_forecast = 100, alpha = 0.5):\n",
        "  demand = [80, 95, 75, 60, 120, 100]\n",
        "  # Initialize forecast\n",
        "  demand_observations = len(demand)\n",
        "  forecast = [0 for i in range(demand_observations)]\n",
        "  forecast[0] = initial_forecast\n",
        "  # For each observation, calculate forecast\n",
        "  for observation in range(demand_observations-1):\n",
        "      forecast[observation+1] = alpha*demand[observation]\\\n",
        "                                +(1-alpha)*forecast[observation]\n",
        "\n",
        "\n",
        "  # Output forecast\n",
        "  print(forecast)\n",
        "\n",
        "  # Output plots\n",
        "  # https://github.com/rougier/matplotlib-tutorial\n",
        "  time = [i for i in range(1,demand_observations+1)]\n",
        "  plt.plot(time,forecast,'g^')\n",
        "  plt.plot(time,demand,'bs')\n",
        "  plt.xlabel(\"Time\")\n",
        "  plt.ylabel(\"Forecast\")\n",
        "  plt.show()"
      ],
      "metadata": {
        "id": "sQ_jbQqnVN1h"
      },
      "execution_count": 2,
      "outputs": []
    },
    {
      "cell_type": "code",
      "source": [
        "forecast(initial_forecast = 100, alpha = 0.3)"
      ],
      "metadata": {
        "colab": {
          "base_uri": "https://localhost:8080/",
          "height": 466
        },
        "id": "fMWSkKm8VTbC",
        "outputId": "a97a91d2-8534-4d60-e7a9-26da8051fdde"
      },
      "execution_count": 3,
      "outputs": [
        {
          "output_type": "stream",
          "name": "stdout",
          "text": [
            "[100, 94.0, 94.3, 88.50999999999999, 79.957, 91.9699]\n"
          ]
        },
        {
          "output_type": "display_data",
          "data": {
            "text/plain": [
              "<Figure size 640x480 with 1 Axes>"
            ],
            "image/png": "[encoded data removed]"
          },
          "metadata": {}
        }
      ]
    },
    {
      "cell_type": "code",
      "source": [
        "forecast(initial_forecast = 100, alpha = 1)"
      ],
      "metadata": {
        "colab": {
          "base_uri": "https://localhost:8080/",
          "height": 466
        },
        "id": "sbUwoJiAWCl-",
        "outputId": "8cb6d1c5-fbfd-42b4-bf6c-eb92259f63ea"
      },
      "execution_count": 4,
      "outputs": [
        {
          "output_type": "stream",
          "name": "stdout",
          "text": [
            "[100, 80, 95, 75, 60, 120]\n"
          ]
        },
        {
          "output_type": "display_data",
          "data": {
            "text/plain": [
              "<Figure size 640x480 with 1 Axes>"
            ],
            "image/png": "[encoded data removed]"
          },
          "metadata": {}
        }
      ]
    },
    {
      "cell_type": "markdown",
      "metadata": {
        "id": "1X9klPTkD76L"
      },
      "source": [
        "## Exercise 2: EOQ"
      ]
    },
    {
      "cell_type": "code",
      "execution_count": 5,
      "metadata": {
        "id": "MBtWqrEUD76M"
      },
      "outputs": [],
      "source": [
        "import math"
      ]
    },
    {
      "cell_type": "code",
      "source": [
        "def eoq(capacity = 500, usages = [1, 2, 1]):\n",
        "  # Input data\n",
        "  setup_costs = [500, 1000, 700]\n",
        "  holding_costs = [3, 5, 10]\n",
        "  demands = [50, 200, 125]\n",
        "\n",
        "  num_products = len(setup_costs)\n",
        "  # Calculate EOQ without lagrange multiplier\n",
        "  used_capacity = 0\n",
        "  for product in range(num_products):\n",
        "      eoq = math.sqrt(2*demands[product]*setup_costs[product]\n",
        "                      / holding_costs[product])\n",
        "      used_capacity += usages[product]*eoq\n",
        "      print(\"EOQ for product \"+str(product)+\": \"+str(eoq))\n",
        "\n",
        "  print(\"Used capacity: \"+str(used_capacity))\n",
        "\n",
        "  # Check if capacity is sufficient for optimal EOQ\n",
        "  if used_capacity > capacity:\n",
        "      capacity_satisfied = False\n",
        "  else:\n",
        "      capacity_satisfied = True\n",
        "\n",
        "  # Calculate EOQ with lagrange multiplier\n",
        "  if capacity_satisfied:\n",
        "      print(\"Capacity is sufficient for optimal EOQ\")\n",
        "  else:\n",
        "      print(\"Capacity is not sufficient for optimal EOQ\")\n",
        "\n",
        "      print(\"Calculating EOQ with lagrange multiplier\")\n",
        "      lb = 0\n",
        "      ub = 200\n",
        "\n",
        "      while (ub-lb > 0.01):\n",
        "          lagrange_multiplier = 0.5*(lb+ub)\n",
        "          used_capacity = 0\n",
        "          for product in range(num_products):\n",
        "              eoq = math.sqrt(2*demands[product]*setup_costs[product]\n",
        "                              / (holding_costs[product]+2*usages[product]\n",
        "                                * lagrange_multiplier))\n",
        "              used_capacity += usages[product]*eoq\n",
        "\n",
        "          if used_capacity > capacity:\n",
        "              lb = lagrange_multiplier\n",
        "          else:\n",
        "              ub = lagrange_multiplier\n",
        "\n",
        "      print(\"Lagrange multiplier: \"+str(lagrange_multiplier))\n",
        "      for product in range(num_products):\n",
        "          eoq = math.sqrt(2*demands[product]*setup_costs[product]\n",
        "                          / (holding_costs[product]+2*usages[product]\n",
        "                            * lagrange_multiplier))\n",
        "          print(\"EOQ for product \"+str(product)+\": \"+str(eoq))"
      ],
      "metadata": {
        "id": "sRl3_FcUVYQ0"
      },
      "execution_count": 6,
      "outputs": []
    },
    {
      "cell_type": "code",
      "source": [
        "eoq(capacity = 500, usages = [1, 2, 1])"
      ],
      "metadata": {
        "colab": {
          "base_uri": "https://localhost:8080/"
        },
        "id": "XtfgpzS1VYXX",
        "outputId": "5db68ace-34a9-4b7c-b485-873c50b76a44"
      },
      "execution_count": 7,
      "outputs": [
        {
          "output_type": "stream",
          "name": "stdout",
          "text": [
            "EOQ for product 0: 129.09944487358058\n",
            "EOQ for product 1: 282.842712474619\n",
            "EOQ for product 2: 132.28756555322954\n",
            "Used capacity: 827.0724353760481\n",
            "Capacity is not sufficient for optimal EOQ\n",
            "Calculating EOQ with lagrange multiplier\n",
            "Lagrange multiplier: 2.740478515625\n",
            "EOQ for product 0: 76.78255698435468\n",
            "EOQ for product 1: 158.3024044969039\n",
            "EOQ for product 2: 106.32126171335544\n"
          ]
        }
      ]
    },
    {
      "cell_type": "code",
      "source": [
        "eoq(capacity = 900, usages = [1, 2, 1])"
      ],
      "metadata": {
        "colab": {
          "base_uri": "https://localhost:8080/"
        },
        "id": "LdZcb0NyWAyL",
        "outputId": "e608d6b5-73bf-437b-f2d8-dbea410e1f65"
      },
      "execution_count": 8,
      "outputs": [
        {
          "output_type": "stream",
          "name": "stdout",
          "text": [
            "EOQ for product 0: 129.09944487358058\n",
            "EOQ for product 1: 282.842712474619\n",
            "EOQ for product 2: 132.28756555322954\n",
            "Used capacity: 827.0724353760481\n",
            "Capacity is sufficient for optimal EOQ\n"
          ]
        }
      ]
    },
    {
      "cell_type": "markdown",
      "metadata": {
        "id": "CHDDfybVD76M"
      },
      "source": [
        "## Exercise 3: Transportation Problem"
      ]
    },
    {
      "cell_type": "code",
      "execution_count": 9,
      "metadata": {
        "id": "Wk9RtCi1D76M"
      },
      "outputs": [],
      "source": [
        "import numpy as np\n",
        "from graphviz import Digraph\n",
        "import copy"
      ]
    },
    {
      "cell_type": "markdown",
      "source": [
        "**Problem 3a**"
      ],
      "metadata": {
        "id": "OSodDQwIUMlm"
      }
    },
    {
      "cell_type": "code",
      "source": [
        "def transportation_col_min(capacities, demands, costs):\n",
        "  num_sources = len(capacities)\n",
        "  num_sinks = len(demands)  # Or number of customers\n",
        "  trans_quantities = np.zeros((num_sources,num_sinks))\n",
        "\n",
        "  for sink in range(num_sinks):\n",
        "      sources = list(range(num_sources))\n",
        "      sources = sorted(sources, key=lambda x: costs[x][sink])\n",
        "      print(\"Ordered sources:\", sources)\n",
        "      for source in sources:\n",
        "          # If there is a remaining capacity and demand\n",
        "          if (capacities[source] > 0 and demands[sink] > 0):  \n",
        "              trans_quantities[source,sink] = min(capacities[source],demands[sink])\n",
        "              # Update the remaining capacity and demand\n",
        "              capacities[source] = capacities[source]-trans_quantities[source,sink]\n",
        "              demands[sink] = demands[sink]-trans_quantities[source,sink]\n",
        "  \n",
        "  return trans_quantities"
      ],
      "metadata": {
        "id": "elsC5aZeZBv9"
      },
      "execution_count": 10,
      "outputs": []
    },
    {
      "cell_type": "markdown",
      "source": [
        "**Problem 3b**"
      ],
      "metadata": {
        "id": "hmu6F9WNUOkE"
      }
    },
    {
      "cell_type": "code",
      "source": [
        "def transportation_mat_min(capacities, demands, costs):\n",
        "  num_sources = len(capacities)\n",
        "  num_sinks = len(demands)  # Or number of customers\n",
        "  trans_quantities = np.zeros((num_sources,num_sinks))\n",
        "\n",
        "  pairs = [(source, sink) for source in range(num_sources) for sink in range(num_sinks)]\n",
        "  pairs = sorted(pairs, key=lambda x: costs[x[0]][x[1]])\n",
        "  print(\"Ordered pairs:\", pairs)\n",
        "\n",
        "  for source, sink in pairs:\n",
        "      # If there is a remaining capacity and demand\n",
        "      if (capacities[source] > 0 and demands[sink] > 0):  \n",
        "          trans_quantities[source,sink] = min(capacities[source],demands[sink])\n",
        "          # Update the remaining capacity and demand\n",
        "          capacities[source] = capacities[source]-trans_quantities[source,sink]\n",
        "          demands[sink] = demands[sink]-trans_quantities[source,sink]\n",
        "  \n",
        "  return trans_quantities"
      ],
      "metadata": {
        "id": "JkoKHMXFcL8G"
      },
      "execution_count": 11,
      "outputs": []
    },
    {
      "cell_type": "code",
      "source": [
        "def transportation(capacities, demands, costs, method = 'column-minimum'):\n",
        "  capacities = copy.deepcopy(capacities)\n",
        "  demands = copy.deepcopy(demands)\n",
        "\n",
        "  if method == 'column-minimum':\n",
        "    trans_quantities = transportation_col_min(capacities, demands, costs)\n",
        "  elif method == 'matrix-minimum':\n",
        "    trans_quantities = transportation_mat_min(capacities, demands, costs)\n",
        "  else:\n",
        "    print('Invalid method name')\n",
        "    return\n",
        "  \n",
        "  total_cost = np.sum(costs*trans_quantities)\n",
        "  print(\"Transport quantities: \")\n",
        "  print(trans_quantities)\n",
        "  print(\"Total costs: \"+str(total_cost))\n",
        "\n",
        "  num_sources = len(capacities)\n",
        "  num_sinks = len(demands)  # Or number of customers\n",
        "\n",
        "  # Plot the transportation network\n",
        "  file = Digraph(comment='TPP')\n",
        "  for source in range(num_sources):\n",
        "      file.node('C'+str(source+1))\n",
        "  for sink in range(num_sinks):\n",
        "      file.node('D'+str(sink+1))\n",
        "\n",
        "  for source in range(num_sources):\n",
        "      for sink in range(num_sinks):\n",
        "          if trans_quantities[source,sink]>0:\n",
        "              file.edge('C'+str(source+1),'D'+str(sink+1),\n",
        "                        label=str(trans_quantities[source,sink]))\n",
        "\n",
        "  file.view()"
      ],
      "metadata": {
        "id": "IEXl6ftqcDSz"
      },
      "execution_count": 12,
      "outputs": []
    },
    {
      "cell_type": "code",
      "source": [
        "capacities = [5,8,7]\n",
        "demands = [3,6,6,5]\n",
        "costs = [[4,5,2,7],[5,8,6,2],[8,9,4,3]]"
      ],
      "metadata": {
        "id": "Lk0Gp8_QZB65"
      },
      "execution_count": 13,
      "outputs": []
    },
    {
      "cell_type": "code",
      "source": [
        "transportation(capacities, demands, costs, method = 'column-minimum')"
      ],
      "metadata": {
        "colab": {
          "base_uri": "https://localhost:8080/"
        },
        "id": "y2tQhiMvdXJ9",
        "outputId": "cd1b88ff-5a7d-4623-cc6a-fbfe70d52714"
      },
      "execution_count": 14,
      "outputs": [
        {
          "output_type": "stream",
          "name": "stdout",
          "text": [
            "Ordered sources: [0, 1, 2]\n",
            "Ordered sources: [0, 1, 2]\n",
            "Ordered sources: [0, 2, 1]\n",
            "Ordered sources: [1, 2, 0]\n",
            "Transport quantities: \n",
            "[[3. 2. 0. 0.]\n",
            " [0. 4. 0. 4.]\n",
            " [0. 0. 6. 1.]]\n",
            "Total costs: 89.0\n"
          ]
        }
      ]
    },
    {
      "cell_type": "code",
      "source": [
        "transportation(capacities, demands, costs, method = 'matrix-minimum')"
      ],
      "metadata": {
        "colab": {
          "base_uri": "https://localhost:8080/"
        },
        "id": "5HpeKPIVdXR_",
        "outputId": "6891c323-8b66-42ca-8caa-1ee6ecc66433"
      },
      "execution_count": 15,
      "outputs": [
        {
          "output_type": "stream",
          "name": "stdout",
          "text": [
            "Ordered pairs: [(0, 2), (1, 3), (2, 3), (0, 0), (2, 2), (0, 1), (1, 0), (1, 2), (0, 3), (1, 1), (2, 0), (2, 1)]\n",
            "Transport quantities: \n",
            "[[0. 0. 5. 0.]\n",
            " [3. 0. 0. 5.]\n",
            " [0. 6. 1. 0.]]\n",
            "Total costs: 93.0\n"
          ]
        }
      ]
    },
    {
      "cell_type": "markdown",
      "metadata": {
        "id": "NomLHniMD76N"
      },
      "source": [
        "## Exercise 4: TSP"
      ]
    },
    {
      "cell_type": "code",
      "source": [
        "distances = [[100, 3, 5, 2, 6, 4],\n",
        "            [2, 100, 7, 5, 1, 3], \n",
        "            [2, 4, 100, 3, 2, 6], \n",
        "            [5, 3, 6, 100, 4, 4], \n",
        "            [1, 4, 5, 2, 100, 6], \n",
        "            [6, 5, 7, 3, 3, 100]]"
      ],
      "metadata": {
        "id": "HfcUjmogr33D"
      },
      "execution_count": 16,
      "outputs": []
    },
    {
      "cell_type": "markdown",
      "source": [
        "**Problem 4a**"
      ],
      "metadata": {
        "id": "J8_3dmejJ2pb"
      }
    },
    {
      "cell_type": "code",
      "execution_count": 17,
      "metadata": {
        "id": "U5GyxfPsD76N"
      },
      "outputs": [],
      "source": [
        "def tsp_successive_insertion(distances):\n",
        "  n = len(distances)\n",
        "  # Initialize tour and length\n",
        "  tour = [0, 0]\n",
        "  tour_length = distances[0][0]\n",
        "\n",
        "  for node in range(1, n):\n",
        "      tour_indices = list(range(node))\n",
        "      # Find the best place to insert the new node into the tour\n",
        "      best_idx = min(tour_indices, key=lambda x: distances[tour[x]][node] + distances[node][tour[x+1]] - distances[tour[x]][tour[x+1]])\n",
        "      # Update the length of the tour\n",
        "      tour_length += distances[tour[best_idx]][node] + distances[node][tour[best_idx+1]] - distances[tour[best_idx]][tour[best_idx+1]]\n",
        "      # Add the new node to the tour\n",
        "      tour.insert(best_idx+1, node)\n",
        "      print(\"Adding node \", node)\n",
        "      print(\"Tour: \", tour)\n",
        "      print(\"Length of the tour: \", tour_length)\n",
        "\n",
        "  print()\n",
        "  print(\"Final tour: \", tour)\n",
        "  print(\"Length of the final tour: \", tour_length)"
      ]
    },
    {
      "cell_type": "code",
      "source": [
        "tsp_successive_insertion(distances)"
      ],
      "metadata": {
        "colab": {
          "base_uri": "https://localhost:8080/"
        },
        "id": "ExGpO0RTsFrV",
        "outputId": "cdff90ee-1618-4861-da18-6386a3c3b5e4"
      },
      "execution_count": 18,
      "outputs": [
        {
          "output_type": "stream",
          "name": "stdout",
          "text": [
            "Adding node  1\n",
            "Tour:  [0, 1, 0]\n",
            "Length of the tour:  5\n",
            "Adding node  2\n",
            "Tour:  [0, 2, 1, 0]\n",
            "Length of the tour:  11\n",
            "Adding node  3\n",
            "Tour:  [0, 2, 3, 1, 0]\n",
            "Length of the tour:  13\n",
            "Adding node  4\n",
            "Tour:  [0, 2, 3, 1, 4, 0]\n",
            "Length of the tour:  13\n",
            "Adding node  5\n",
            "Tour:  [0, 2, 3, 1, 5, 4, 0]\n",
            "Length of the tour:  18\n",
            "\n",
            "Final tour:  [0, 2, 3, 1, 5, 4, 0]\n",
            "Length of the final tour:  18\n"
          ]
        }
      ]
    },
    {
      "cell_type": "markdown",
      "source": [
        "**Problem 4b**"
      ],
      "metadata": {
        "id": "z0PBmgGCJ5EV"
      }
    },
    {
      "cell_type": "code",
      "source": [
        "def tsp_nn(distances):\n",
        "  # Start at node 0\n",
        "  node = 0\n",
        "  # Initialize tour and length\n",
        "  tour = [node]\n",
        "  tour_length = 0\n",
        "  unvisited_customers = list(range(len(distances)))\n",
        "  unvisited_customers.remove(node)\n",
        "\n",
        "  while unvisited_customers:\n",
        "      # Find the nearest neighbor from unvisited customers\n",
        "      nearest_neighbor = min(unvisited_customers, key=lambda x: distances[node][x])\n",
        "      # Add the nearest neighbor to the tour\n",
        "      tour.append(nearest_neighbor)\n",
        "      # Update the length of the tour\n",
        "      tour_length += distances[node][nearest_neighbor]\n",
        "      # Update the node\n",
        "      node = nearest_neighbor\n",
        "      # Remove the nearest neighbor from the unvisited customers\n",
        "      unvisited_customers.remove(node)\n",
        "\n",
        "  final_node = tour[-1]\n",
        "  tour.append(0)  # Return to the start\n",
        "  tour_length += distances[final_node][0]\n",
        "  print(\"Result of nearest neighbor heuristic\")\n",
        "  print(\"Tour: \", tour)\n",
        "  print(\"Length of the tour: \", tour_length)\n",
        "  return tour, tour_length"
      ],
      "metadata": {
        "id": "LFhy5JMGxWbw"
      },
      "execution_count": 19,
      "outputs": []
    },
    {
      "cell_type": "code",
      "source": [
        "def tsp_nn_2opt(distances):\n",
        "  n = len(distances)\n",
        "  tour, tour_length = tsp_nn(distances)\n",
        "  improve = True\n",
        "  while improve:\n",
        "      improve = False\n",
        "      best_tour = None\n",
        "      best_node_combination = None\n",
        "      best_cost_change = 0\n",
        "      for tour_idx_1 in range(n):\n",
        "          for tour_idx_2 in range(tour_idx_1+2, n):\n",
        "              u1 = tour[tour_idx_1]\n",
        "              v1 = tour[tour_idx_1+1]\n",
        "              u2 = tour[tour_idx_2]\n",
        "              v2 = tour[tour_idx_2+1]\n",
        "              # Swap v1 and u2\n",
        "              subtour = tour[tour_idx_1+1:tour_idx_2+1]\n",
        "              subtour.reverse()\n",
        "              # Order of the nodes between v1 and u2 also change\n",
        "              # Therefore, take the reverse of the subtour and add into new tour\n",
        "              new_tour = tour[:tour_idx_1+1] + subtour + tour[tour_idx_2+1:]\n",
        "              cost_change = 0\n",
        "              for idx in range(tour_idx_1, tour_idx_2+1):\n",
        "                  cost_change -= distances[tour[idx]][tour[idx+1]]\n",
        "                  cost_change += distances[new_tour[idx]][new_tour[idx+1]]\n",
        "              if cost_change < best_cost_change:\n",
        "                  best_tour = new_tour\n",
        "                  best_cost_change = cost_change\n",
        "                  best_node_combination = (u1, v1, u2, v2)\n",
        "      if best_cost_change < 0:\n",
        "          improve = True\n",
        "          tour = best_tour\n",
        "          tour_length += best_cost_change\n",
        "          u1, v1, u2, v2 = best_node_combination\n",
        "          print(f\"Changing {u1}-{v1} and {u2}-{v2} to {u1}-{u2} and {v1}-{v2}\")\n",
        "          print(\"Tour: \", tour)\n",
        "          print(\"Length of the tour: \", tour_length)\n",
        "  print(\"After 2 OPT\")\n",
        "  print(\"Tour: \", tour)\n",
        "  print(\"Length of the tour: \", tour_length)"
      ],
      "metadata": {
        "id": "GQht0RO2xKVH"
      },
      "execution_count": 20,
      "outputs": []
    },
    {
      "cell_type": "code",
      "source": [
        "tsp_nn_2opt(distances)"
      ],
      "metadata": {
        "colab": {
          "base_uri": "https://localhost:8080/"
        },
        "id": "KESMvtWdyGlB",
        "outputId": "f45a2920-96ce-4212-fd4a-3a72383a7f6b"
      },
      "execution_count": 21,
      "outputs": [
        {
          "output_type": "stream",
          "name": "stdout",
          "text": [
            "Result of nearest neighbor heuristic\n",
            "Tour:  [0, 3, 1, 4, 2, 5, 0]\n",
            "Length of the tour:  23\n",
            "Changing 1-4 and 5-0 to 1-5 and 4-0\n",
            "Tour:  [0, 3, 1, 5, 2, 4, 0]\n",
            "Length of the tour:  18\n",
            "After 2 OPT\n",
            "Tour:  [0, 3, 1, 5, 2, 4, 0]\n",
            "Length of the tour:  18\n"
          ]
        }
      ]
    },
    {
      "cell_type": "markdown",
      "metadata": {
        "id": "eZZO0EqvD76O"
      },
      "source": [
        "## Exercise 5: Transportation and Warehouse Location Problem"
      ]
    },
    {
      "cell_type": "code",
      "execution_count": 22,
      "metadata": {
        "id": "4a9NhSY2D76O"
      },
      "outputs": [],
      "source": [
        "import numpy as np\n",
        "from graphviz import Digraph"
      ]
    },
    {
      "cell_type": "markdown",
      "source": [
        "**Problem 5a (capacitated)**"
      ],
      "metadata": {
        "id": "YFhLE7j4Jvue"
      }
    },
    {
      "cell_type": "code",
      "source": [
        "def transportation_fixed_investment_capacitated_simple(capacities, demands, costs, fixed_costs):\n",
        "  num_sources = len(capacities)\n",
        "  num_sinks = len(demands)  # Or number of customers\n",
        "  trans_quantities = np.zeros((num_sources,num_sinks))\n",
        "\n",
        "  for source in range(num_sources):\n",
        "      for sink in range(num_sinks):\n",
        "          # If there is a remaining capacity and demand\n",
        "          if (capacities[source] > 0 and demands[sink] > 0):  \n",
        "              trans_quantities[source,sink] = min(capacities[source],demands[sink])\n",
        "              # Update the remaining capacity and demand\n",
        "              capacities[source] = capacities[source]-trans_quantities[source,sink]\n",
        "              demands[sink] = demands[sink]-trans_quantities[source,sink]\n",
        "            \n",
        "  total_cost = np.sum(costs*trans_quantities) + np.sum(fixed_costs*(trans_quantities > 0))\n",
        "\n",
        "  print(\"Transport quantities: \")\n",
        "  print(trans_quantities)\n",
        "  print(\"Total costs: \"+str(total_cost))"
      ],
      "metadata": {
        "id": "PZMJCVxKqBUD"
      },
      "execution_count": 23,
      "outputs": []
    },
    {
      "cell_type": "code",
      "source": [
        "def transportation_fixed_investment_capacitated_col_min(capacities, demands, costs, fixed_costs):\n",
        "  num_sources = len(capacities)\n",
        "  num_sinks = len(demands)  # Or number of customers\n",
        "  trans_quantities = np.zeros((num_sources,num_sinks))\n",
        "\n",
        "  for sink in range(num_sinks):\n",
        "      sources = list(range(num_sources))\n",
        "      sources = sorted(sources, key=lambda x: costs[x][sink])\n",
        "      print(\"Ordered sources:\", sources)\n",
        "      for source in sources:\n",
        "          # If there is a remaining capacity and demand\n",
        "          if (capacities[source] > 0 and demands[sink] > 0):  \n",
        "              trans_quantities[source,sink] = min(capacities[source],demands[sink])\n",
        "              # Update the remaining capacity and demand\n",
        "              capacities[source] = capacities[source]-trans_quantities[source,sink]\n",
        "              demands[sink] = demands[sink]-trans_quantities[source,sink]\n",
        "            \n",
        "  total_cost = np.sum(costs*trans_quantities) + np.sum(fixed_costs*(trans_quantities > 0))\n",
        "\n",
        "  print(\"Transport quantities: \")\n",
        "  print(trans_quantities)\n",
        "  print(\"Total costs: \"+str(total_cost))"
      ],
      "metadata": {
        "id": "gK4F_UKCOQbt"
      },
      "execution_count": 24,
      "outputs": []
    },
    {
      "cell_type": "code",
      "source": [
        "def transportation_fixed_investment_capacitated_mat_min(capacities, demands, costs, fixed_costs):\n",
        "  num_sources = len(capacities)\n",
        "  num_sinks = len(demands)  # Or number of customers\n",
        "  trans_quantities = np.zeros((num_sources,num_sinks))\n",
        "\n",
        "  pairs = [(source, sink) for source in range(num_sources) for sink in range(num_sinks)]\n",
        "  pairs = sorted(pairs, key=lambda x: costs[x[0]][x[1]])\n",
        "  print(\"Ordered pairs:\", pairs)\n",
        "\n",
        "  for source, sink in pairs:\n",
        "      # If there is a remaining capacity and demand\n",
        "      if (capacities[source] > 0 and demands[sink] > 0):  \n",
        "          trans_quantities[source,sink] = min(capacities[source],demands[sink])\n",
        "          # Update the remaining capacity and demand\n",
        "          capacities[source] = capacities[source]-trans_quantities[source,sink]\n",
        "          demands[sink] = demands[sink]-trans_quantities[source,sink]\n",
        "            \n",
        "  total_cost = np.sum(costs*trans_quantities) + np.sum(fixed_costs*(trans_quantities > 0))\n",
        "\n",
        "  print(\"Transport quantities: \")\n",
        "  print(trans_quantities)\n",
        "  print(\"Total costs: \"+str(total_cost))"
      ],
      "metadata": {
        "id": "qM4DNNcgOQwB"
      },
      "execution_count": 25,
      "outputs": []
    },
    {
      "cell_type": "code",
      "source": [
        "def transportation_fixed_investment_capacitated(capacities, demands, costs, fixed_costs, method = 'simple'):\n",
        "  capacities = copy.deepcopy(capacities)\n",
        "  demands = copy.deepcopy(demands)\n",
        "  if method == 'simple':\n",
        "    transportation_fixed_investment_capacitated_simple(capacities, demands, costs, fixed_costs)\n",
        "  elif method == 'column-minimum':\n",
        "    transportation_fixed_investment_capacitated_col_min(capacities, demands, costs, fixed_costs)\n",
        "  elif method == 'matrix-minimum':\n",
        "    transportation_fixed_investment_capacitated_mat_min(capacities, demands, costs, fixed_costs)\n",
        "  else:\n",
        "    print('Invalid method name')\n",
        "    return"
      ],
      "metadata": {
        "id": "V82xxe6ZOt0y"
      },
      "execution_count": 26,
      "outputs": []
    },
    {
      "cell_type": "code",
      "source": [
        "capacities = [5,8,7]\n",
        "demands = [3,6,6,5]\n",
        "costs = [[4,5,2,7],[5,8,6,2],[8,9,4,3]]\n",
        "fixed_costs = [[2,10,1,5],[7,2,7,8],[4,0,3,9]]"
      ],
      "metadata": {
        "id": "bPgS_GSBqBWc"
      },
      "execution_count": 27,
      "outputs": []
    },
    {
      "cell_type": "code",
      "source": [
        "transportation_fixed_investment_capacitated(capacities, demands, costs, fixed_costs, 'simple')"
      ],
      "metadata": {
        "colab": {
          "base_uri": "https://localhost:8080/"
        },
        "id": "t77z98SNqZGE",
        "outputId": "98b77965-f208-4c67-f756-f9f7f55f1e38"
      },
      "execution_count": 28,
      "outputs": [
        {
          "output_type": "stream",
          "name": "stdout",
          "text": [
            "Transport quantities: \n",
            "[[3. 2. 0. 0.]\n",
            " [0. 4. 4. 0.]\n",
            " [0. 0. 2. 5.]]\n",
            "Total costs: 134.0\n"
          ]
        }
      ]
    },
    {
      "cell_type": "code",
      "source": [
        "transportation_fixed_investment_capacitated(capacities, demands, costs, fixed_costs, 'column-minimum')"
      ],
      "metadata": {
        "colab": {
          "base_uri": "https://localhost:8080/"
        },
        "id": "P_OGNXw5P0Pg",
        "outputId": "a781ebd1-d44c-4e73-a42e-67dc4cd5219e"
      },
      "execution_count": 29,
      "outputs": [
        {
          "output_type": "stream",
          "name": "stdout",
          "text": [
            "Ordered sources: [0, 1, 2]\n",
            "Ordered sources: [0, 1, 2]\n",
            "Ordered sources: [0, 2, 1]\n",
            "Ordered sources: [1, 2, 0]\n",
            "Transport quantities: \n",
            "[[3. 2. 0. 0.]\n",
            " [0. 4. 0. 4.]\n",
            " [0. 0. 6. 1.]]\n",
            "Total costs: 123.0\n"
          ]
        }
      ]
    },
    {
      "cell_type": "code",
      "source": [
        "transportation_fixed_investment_capacitated(capacities, demands, costs, fixed_costs, 'matrix-minimum')"
      ],
      "metadata": {
        "colab": {
          "base_uri": "https://localhost:8080/"
        },
        "id": "VQNarjEFP0YG",
        "outputId": "d85b3e2b-4eaa-4f6f-b16d-054d446f6f05"
      },
      "execution_count": 30,
      "outputs": [
        {
          "output_type": "stream",
          "name": "stdout",
          "text": [
            "Ordered pairs: [(0, 2), (1, 3), (2, 3), (0, 0), (2, 2), (0, 1), (1, 0), (1, 2), (0, 3), (1, 1), (2, 0), (2, 1)]\n",
            "Transport quantities: \n",
            "[[0. 0. 5. 0.]\n",
            " [3. 0. 0. 5.]\n",
            " [0. 6. 1. 0.]]\n",
            "Total costs: 112.0\n"
          ]
        }
      ]
    },
    {
      "cell_type": "markdown",
      "source": [
        "**Problem 5a (uncapacitated)**"
      ],
      "metadata": {
        "id": "zXUXET2VR-_6"
      }
    },
    {
      "cell_type": "code",
      "source": [
        "def transportation_fixed_investment_uncapacitated_simple(demands, costs, fixed_costs):\n",
        "  num_sources = len(capacities)\n",
        "  num_sinks = len(demands)  # Or number of customers\n",
        "  trans_quantities = np.zeros((num_sources,num_sinks))\n",
        "\n",
        "  for source in range(num_sources):\n",
        "      for sink in range(num_sinks):\n",
        "          # If there is a remaining capacity and demand\n",
        "          if demands[sink] > 0:  \n",
        "              trans_quantities[source,sink] = demands[sink]\n",
        "              # Update the remaining demand\n",
        "              demands[sink] = 0\n",
        "            \n",
        "  total_cost = np.sum(costs*trans_quantities) + np.sum(fixed_costs*(trans_quantities > 0))\n",
        "\n",
        "  print(\"Transport quantities: \")\n",
        "  print(trans_quantities)\n",
        "  print(\"Total costs: \"+str(total_cost))"
      ],
      "metadata": {
        "id": "4W2isD0hSXbm"
      },
      "execution_count": 31,
      "outputs": []
    },
    {
      "cell_type": "code",
      "source": [
        "def transportation_fixed_investment_uncapacitated_col_min(demands, costs, fixed_costs):\n",
        "  num_sources = len(capacities)\n",
        "  num_sinks = len(demands)  # Or number of customers\n",
        "  trans_quantities = np.zeros((num_sources,num_sinks))\n",
        "\n",
        "  for sink in range(num_sinks):\n",
        "      sources = list(range(num_sources))\n",
        "      source = min(sources, key=lambda x: costs[x][sink])\n",
        "      trans_quantities[source,sink] = demands[sink]\n",
        "            \n",
        "  total_cost = np.sum(costs*trans_quantities) + np.sum(fixed_costs*(trans_quantities > 0))\n",
        "\n",
        "  print(\"Transport quantities: \")\n",
        "  print(trans_quantities)\n",
        "  print(\"Total costs: \"+str(total_cost))"
      ],
      "metadata": {
        "id": "XqQJdbgEL7yp"
      },
      "execution_count": 32,
      "outputs": []
    },
    {
      "cell_type": "code",
      "source": [
        "def transportation_fixed_investment_uncapacitated_mat_min(demands, costs, fixed_costs):\n",
        "  num_sources = len(capacities)\n",
        "  num_sinks = len(demands)  # Or number of customers\n",
        "  trans_quantities = np.zeros((num_sources,num_sinks))\n",
        "\n",
        "  pairs = [(source, sink) for source in range(num_sources) for sink in range(num_sinks)]\n",
        "  pairs = sorted(pairs, key=lambda x: costs[x[0]][x[1]])\n",
        "  print(\"Ordered pairs:\", pairs)\n",
        "\n",
        "  for source, sink in pairs:\n",
        "      # If there is a remaining demand\n",
        "      if demands[sink] > 0:\n",
        "          trans_quantities[source,sink] = demands[sink]\n",
        "          # Update the remaining demand\n",
        "          demands[sink] = 0\n",
        "\n",
        "  total_cost = np.sum(costs*trans_quantities) + np.sum(fixed_costs*(trans_quantities > 0))\n",
        "\n",
        "  print(\"Transport quantities: \")\n",
        "  print(trans_quantities)\n",
        "  print(\"Total costs: \"+str(total_cost))"
      ],
      "metadata": {
        "id": "CtNMIKYESXx5"
      },
      "execution_count": 33,
      "outputs": []
    },
    {
      "cell_type": "code",
      "source": [
        "def transportation_fixed_investment_uncapacitated(demands, costs, fixed_costs, method = 'simple'):\n",
        "  demands = copy.deepcopy(demands)\n",
        "  if method == 'simple':\n",
        "    transportation_fixed_investment_uncapacitated_simple(demands, costs, fixed_costs)\n",
        "  elif method == 'column-minimum':\n",
        "    transportation_fixed_investment_uncapacitated_col_min(demands, costs, fixed_costs)\n",
        "  elif method == 'matrix-minimum':\n",
        "    transportation_fixed_investment_uncapacitated_mat_min(demands, costs, fixed_costs)\n",
        "  else:\n",
        "    print('Invalid method name')\n",
        "    return"
      ],
      "metadata": {
        "id": "k7P0UFWeSX70"
      },
      "execution_count": 34,
      "outputs": []
    },
    {
      "cell_type": "code",
      "source": [
        "transportation_fixed_investment_uncapacitated(demands, costs, fixed_costs, 'simple')"
      ],
      "metadata": {
        "colab": {
          "base_uri": "https://localhost:8080/"
        },
        "id": "3tQ1fKDeMliS",
        "outputId": "60721d1e-26b7-4e2f-935b-d2ace0c6934f"
      },
      "execution_count": 35,
      "outputs": [
        {
          "output_type": "stream",
          "name": "stdout",
          "text": [
            "Transport quantities: \n",
            "[[3. 6. 6. 5.]\n",
            " [0. 0. 0. 0.]\n",
            " [0. 0. 0. 0.]]\n",
            "Total costs: 107.0\n"
          ]
        }
      ]
    },
    {
      "cell_type": "code",
      "source": [
        "transportation_fixed_investment_uncapacitated(demands, costs, fixed_costs, 'column-minimum')"
      ],
      "metadata": {
        "colab": {
          "base_uri": "https://localhost:8080/"
        },
        "id": "hWXcOHGpTTKC",
        "outputId": "fd2076bd-7a29-413a-b9a3-04ed4c63f25e"
      },
      "execution_count": 36,
      "outputs": [
        {
          "output_type": "stream",
          "name": "stdout",
          "text": [
            "Transport quantities: \n",
            "[[3. 6. 6. 0.]\n",
            " [0. 0. 0. 5.]\n",
            " [0. 0. 0. 0.]]\n",
            "Total costs: 85.0\n"
          ]
        }
      ]
    },
    {
      "cell_type": "code",
      "source": [
        "transportation_fixed_investment_uncapacitated(demands, costs, fixed_costs, 'matrix-minimum')"
      ],
      "metadata": {
        "colab": {
          "base_uri": "https://localhost:8080/"
        },
        "id": "UB1qg9_lTTNq",
        "outputId": "04f32816-56cb-4ec4-ea76-28517f60e9b3"
      },
      "execution_count": 37,
      "outputs": [
        {
          "output_type": "stream",
          "name": "stdout",
          "text": [
            "Ordered pairs: [(0, 2), (1, 3), (2, 3), (0, 0), (2, 2), (0, 1), (1, 0), (1, 2), (0, 3), (1, 1), (2, 0), (2, 1)]\n",
            "Transport quantities: \n",
            "[[3. 6. 6. 0.]\n",
            " [0. 0. 0. 5.]\n",
            " [0. 0. 0. 0.]]\n",
            "Total costs: 85.0\n"
          ]
        }
      ]
    },
    {
      "cell_type": "markdown",
      "source": [
        "**Considering the comments on Moodle, I assume that there is no restriction on capacities of facilities for the following problems 5b and 5c.**"
      ],
      "metadata": {
        "id": "eGCrPbLN7AQZ"
      }
    },
    {
      "cell_type": "markdown",
      "source": [
        "**Problem 5b**"
      ],
      "metadata": {
        "id": "FkVONYzqInGb"
      }
    },
    {
      "cell_type": "code",
      "source": [
        "def warehouse_location_extended(demands, costs, fixed_costs):\n",
        "  num_sources = len(fixed_costs)\n",
        "  num_sinks = len(demands)  # Or number of customers\n",
        "  trans_quantities = np.zeros((num_sources,num_sinks))\n",
        "  source_used = [0 for _ in range(num_sources)]\n",
        "\n",
        "  all_sources_used = set()\n",
        "  for sink in range(num_sinks):\n",
        "      sources = list(range(num_sources))\n",
        "      source = min(sources, key=lambda x: costs[x][sink])\n",
        "      trans_quantities[source,sink] = demands[sink]\n",
        "      # Update the remaining capacity and demand\n",
        "      source_used[source] = 1\n",
        "      all_sources_used.add(source)\n",
        "          \n",
        "  source_used = np.array(source_used)\n",
        "  total_cost = np.sum(costs*trans_quantities) + np.sum(fixed_costs*source_used)\n",
        "\n",
        "  print(\"Transport quantities: \")\n",
        "  print(trans_quantities)\n",
        "  print(\"All used sources: \", all_sources_used)\n",
        "  print(\"Total costs: \"+str(total_cost))\n",
        "\n",
        "  # Plot the transportation network\n",
        "  file = Digraph(comment='TPP')\n",
        "  for source in range(num_sources):\n",
        "      file.node('C'+str(source+1))\n",
        "  for sink in range(num_sinks):\n",
        "      file.node('D'+str(sink+1))\n",
        "\n",
        "  for source in range(num_sources):\n",
        "      for sink in range(num_sinks):\n",
        "          if trans_quantities[source,sink]>0:\n",
        "              file.edge('C'+str(source+1),'D'+str(sink+1),\n",
        "                        label=str(trans_quantities[source,sink]))\n",
        "\n",
        "  file.view()"
      ],
      "metadata": {
        "id": "x1R9J5rVy2uq"
      },
      "execution_count": 38,
      "outputs": []
    },
    {
      "cell_type": "code",
      "source": [
        "costs = [[1,2,10,9,6,7,3],[2,9,0,7,3,6,10],[7,6,1,5,3,10,5],[6,5,10,2,6,3,6],[6,4,6,3,7,2,6]]\n",
        "fixed_costs = [5,7,5,6,5]"
      ],
      "metadata": {
        "id": "EAmyfY6Ay2xE"
      },
      "execution_count": 39,
      "outputs": []
    },
    {
      "cell_type": "code",
      "source": [
        "demands = [3,6,6,5,1,2,5]"
      ],
      "metadata": {
        "id": "FmgRir7Y2PEr"
      },
      "execution_count": 40,
      "outputs": []
    },
    {
      "cell_type": "code",
      "source": [
        "warehouse_location_extended(demands, costs, fixed_costs)"
      ],
      "metadata": {
        "colab": {
          "base_uri": "https://localhost:8080/"
        },
        "id": "aJVfOlfyy2zN",
        "outputId": "5876c7d8-8ec7-4b86-a6e2-8611a8bfce19"
      },
      "execution_count": 41,
      "outputs": [
        {
          "output_type": "stream",
          "name": "stdout",
          "text": [
            "Transport quantities: \n",
            "[[3. 6. 0. 0. 0. 0. 5.]\n",
            " [0. 0. 6. 0. 1. 0. 0.]\n",
            " [0. 0. 0. 0. 0. 0. 0.]\n",
            " [0. 0. 0. 5. 0. 0. 0.]\n",
            " [0. 0. 0. 0. 0. 2. 0.]]\n",
            "All used sources:  {0, 1, 3, 4}\n",
            "Total costs: 70.0\n"
          ]
        }
      ]
    },
    {
      "cell_type": "markdown",
      "source": [
        "**Problem 5c**"
      ],
      "metadata": {
        "id": "2f1rlhTiIqNK"
      }
    },
    {
      "cell_type": "code",
      "source": [
        "def get_trans_quantities_with_sources(demands, costs, fixed_costs, allowed_sources):\n",
        "  num_sources = len(fixed_costs)\n",
        "  num_sinks = len(demands)  # Or number of customers\n",
        "  trans_quantities = np.zeros((num_sources,num_sinks))\n",
        "  source_used = [0 for _ in range(num_sources)]\n",
        "\n",
        "  for sink in range(num_sinks):\n",
        "      sources = copy.deepcopy(allowed_sources)\n",
        "      source = min(sources, key=lambda x: costs[x][sink])\n",
        "      trans_quantities[source,sink] = demands[sink]\n",
        "      # Update the remaining capacity and demand\n",
        "      source_used[source] = 1\n",
        "  \n",
        "  source_used = np.array(source_used)\n",
        "  total_cost = np.sum(costs*trans_quantities) + np.sum(fixed_costs*source_used)\n",
        "  sources = [source for source in allowed_sources if source_used[source] == 1]\n",
        "  return trans_quantities, total_cost, sources\n",
        "\n",
        "\n",
        "def warehouse_location_heuristics(demands, costs, fixed_costs, initial_source):\n",
        "  num_sources = len(fixed_costs)\n",
        "  num_sinks = len(demands)  # Or number of customers\n",
        "  trans_quantities, total_cost, sources = get_trans_quantities_with_sources(demands, costs, fixed_costs, [initial_source])\n",
        "\n",
        "  improve = True\n",
        "  while improve:\n",
        "      improve = False\n",
        "      best_total_cost = total_cost\n",
        "      best_trans_quantities = None\n",
        "      best_sources = None\n",
        "      for source in range(num_sources):\n",
        "          if source not in sources:\n",
        "              allowed_sources = copy.deepcopy(sources)\n",
        "              allowed_sources.append(source)\n",
        "              trial_trans_quantities, trial_total_cost, trial_sources = get_trans_quantities_with_sources(demands, costs, fixed_costs, allowed_sources)\n",
        "              if trial_total_cost < best_total_cost:\n",
        "                  improve = True\n",
        "                  best_total_cost = trial_total_cost\n",
        "                  best_trans_quantities = trial_trans_quantities\n",
        "                  best_sources = trial_sources\n",
        "      if improve:\n",
        "          total_cost = best_total_cost\n",
        "          trans_quantities = best_trans_quantities\n",
        "          sources = best_sources\n",
        "\n",
        "  print(\"Transport quantities: \")\n",
        "  print(trans_quantities)\n",
        "  print(\"All used sources: \", sources)\n",
        "  print(\"Total costs: \"+str(total_cost))\n",
        "\n",
        "  # Plot the transportation network\n",
        "  file = Digraph(comment='TPP')\n",
        "  for source in range(num_sources):\n",
        "      file.node('C'+str(source+1))\n",
        "  for sink in range(num_sinks):\n",
        "      file.node('D'+str(sink+1))\n",
        "\n",
        "  for source in range(num_sources):\n",
        "      for sink in range(num_sinks):\n",
        "          if trans_quantities[source,sink]>0:\n",
        "              file.edge('C'+str(source+1),'D'+str(sink+1),\n",
        "                        label=str(trans_quantities[source,sink]))\n",
        "\n",
        "  file.view()"
      ],
      "metadata": {
        "id": "GJGPlG7-rqs-"
      },
      "execution_count": 42,
      "outputs": []
    },
    {
      "cell_type": "code",
      "source": [
        "warehouse_location_heuristics(demands, costs, fixed_costs, 0)"
      ],
      "metadata": {
        "colab": {
          "base_uri": "https://localhost:8080/"
        },
        "id": "ZohkkqvA_jXe",
        "outputId": "eaf899c1-3e24-4f5e-fab1-8d40da35f1cc"
      },
      "execution_count": 43,
      "outputs": [
        {
          "output_type": "stream",
          "name": "stdout",
          "text": [
            "Transport quantities: \n",
            "[[3. 6. 0. 0. 0. 0. 5.]\n",
            " [0. 0. 0. 0. 0. 0. 0.]\n",
            " [0. 0. 6. 0. 1. 0. 0.]\n",
            " [0. 0. 0. 5. 0. 2. 0.]\n",
            " [0. 0. 0. 0. 0. 0. 0.]]\n",
            "All used sources:  [0, 2, 3]\n",
            "Total costs: 71.0\n"
          ]
        }
      ]
    },
    {
      "cell_type": "code",
      "source": [
        "warehouse_location_heuristics(demands, costs, fixed_costs, 1)"
      ],
      "metadata": {
        "colab": {
          "base_uri": "https://localhost:8080/"
        },
        "id": "DFMu1WImGODX",
        "outputId": "6eed42b9-f61e-4e50-814c-d4fcad82aa46"
      },
      "execution_count": 44,
      "outputs": [
        {
          "output_type": "stream",
          "name": "stdout",
          "text": [
            "Transport quantities: \n",
            "[[3. 6. 0. 0. 0. 0. 5.]\n",
            " [0. 0. 6. 0. 1. 0. 0.]\n",
            " [0. 0. 0. 0. 0. 0. 0.]\n",
            " [0. 0. 0. 5. 0. 2. 0.]\n",
            " [0. 0. 0. 0. 0. 0. 0.]]\n",
            "All used sources:  [1, 0, 3]\n",
            "Total costs: 67.0\n"
          ]
        }
      ]
    },
    {
      "cell_type": "code",
      "source": [
        "warehouse_location_heuristics(demands, costs, fixed_costs, 2)"
      ],
      "metadata": {
        "colab": {
          "base_uri": "https://localhost:8080/"
        },
        "id": "6CE4hZBJGOKn",
        "outputId": "13a460a5-c918-4117-bb99-152e947ccf6f"
      },
      "execution_count": 45,
      "outputs": [
        {
          "output_type": "stream",
          "name": "stdout",
          "text": [
            "Transport quantities: \n",
            "[[3. 6. 0. 0. 0. 0. 5.]\n",
            " [0. 0. 0. 0. 0. 0. 0.]\n",
            " [0. 0. 6. 0. 1. 0. 0.]\n",
            " [0. 0. 0. 5. 0. 2. 0.]\n",
            " [0. 0. 0. 0. 0. 0. 0.]]\n",
            "All used sources:  [2, 0, 3]\n",
            "Total costs: 71.0\n"
          ]
        }
      ]
    },
    {
      "cell_type": "code",
      "source": [
        "warehouse_location_heuristics(demands, costs, fixed_costs, 3)"
      ],
      "metadata": {
        "colab": {
          "base_uri": "https://localhost:8080/"
        },
        "id": "virk78sRGOSC",
        "outputId": "8e7cbda9-18fa-45ca-d811-24327abdbaf6"
      },
      "execution_count": 46,
      "outputs": [
        {
          "output_type": "stream",
          "name": "stdout",
          "text": [
            "Transport quantities: \n",
            "[[3. 6. 0. 0. 0. 0. 5.]\n",
            " [0. 0. 6. 0. 1. 0. 0.]\n",
            " [0. 0. 0. 0. 0. 0. 0.]\n",
            " [0. 0. 0. 5. 0. 2. 0.]\n",
            " [0. 0. 0. 0. 0. 0. 0.]]\n",
            "All used sources:  [3, 1, 0]\n",
            "Total costs: 67.0\n"
          ]
        }
      ]
    },
    {
      "cell_type": "code",
      "source": [
        "warehouse_location_heuristics(demands, costs, fixed_costs, 4)"
      ],
      "metadata": {
        "colab": {
          "base_uri": "https://localhost:8080/"
        },
        "id": "p97VIVRvGOWr",
        "outputId": "3b0935bb-6dd5-49da-fdcc-c3c12617db71"
      },
      "execution_count": 47,
      "outputs": [
        {
          "output_type": "stream",
          "name": "stdout",
          "text": [
            "Transport quantities: \n",
            "[[3. 6. 0. 0. 0. 0. 5.]\n",
            " [0. 0. 6. 0. 1. 0. 0.]\n",
            " [0. 0. 0. 0. 0. 0. 0.]\n",
            " [0. 0. 0. 0. 0. 0. 0.]\n",
            " [0. 0. 0. 5. 0. 2. 0.]]\n",
            "All used sources:  [4, 1, 0]\n",
            "Total costs: 69.0\n"
          ]
        }
      ]
    },
    {
      "cell_type": "markdown",
      "source": [
        "It seems that performance of the heuristics depends on the initial source we set. For some sources like warehouse0 and warehouse2, performs worse than extended version of transportation problem. Meanwhile, performs better for warehouse4, especially for warehouse1 and warehouse3 which gives the best solution."
      ],
      "metadata": {
        "id": "JwRQuaUYIx4A"
      }
    }
  ],
  "metadata": {
    "kernelspec": {
      "display_name": "Python 3",
      "language": "python",
      "name": "python3"
    },
    "language_info": {
      "codemirror_mode": {
        "name": "ipython",
        "version": 3
      },
      "file_extension": ".py",
      "mimetype": "text/x-python",
      "name": "python",
      "nbconvert_exporter": "python",
      "pygments_lexer": "ipython3",
      "version": "3.9.6"
    },
    "orig_nbformat": 4,
    "vscode": {
      "interpreter": {
        "hash": "31f2aee4e71d21fbe5cf8b01ff0e069b9275f58929596ceb00d14d90e3e16cd6"
      }
    },
    "colab": {
      "provenance": []
    }
  },
  "nbformat": 4,
  "nbformat_minor": 0
}