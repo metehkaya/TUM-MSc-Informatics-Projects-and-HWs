{
 "cells": [
  {
   "cell_type": "code",
   "execution_count": 1,
   "id": "da904973",
   "metadata": {},
   "outputs": [],
   "source": [
    "# Imports\n",
    "\n",
    "import numpy as np\n",
    "import pandas as pd\n",
    "from matplotlib import pyplot as plt\n",
    "from custom_pca import CustomPCA\n",
    "from utils import read_text"
   ]
  },
  {
   "cell_type": "code",
   "execution_count": 2,
   "id": "f533e0e9",
   "metadata": {},
   "outputs": [],
   "source": [
    "# Constants\n",
    "\n",
    "FILENAME = 'MI_timesteps.txt'\n",
    "WINDOWS_FILENAME = 'windows.txt'\n",
    "M = 10001 # number of windows"
   ]
  },
  {
   "cell_type": "code",
   "execution_count": 3,
   "id": "a0a750cf",
   "metadata": {},
   "outputs": [],
   "source": [
    "def read_data(file_name):\n",
    "    \"\"\"\n",
    "    Reads coordinates of the density data\n",
    "    :param file_name:    Input file storing coordinates of the density data\n",
    "    :returns:            Density values in form of a DataFrame\n",
    "    \"\"\"\n",
    "    data = pd.read_csv(file_name, sep=' ')\n",
    "    return data"
   ]
  },
  {
   "cell_type": "code",
   "execution_count": 4,
   "id": "edca196a",
   "metadata": {
    "scrolled": true
   },
   "outputs": [
    {
     "data": {
      "text/html": [
       "<div>\n",
       "<style scoped>\n",
       "    .dataframe tbody tr th:only-of-type {\n",
       "        vertical-align: middle;\n",
       "    }\n",
       "\n",
       "    .dataframe tbody tr th {\n",
       "        vertical-align: top;\n",
       "    }\n",
       "\n",
       "    .dataframe thead th {\n",
       "        text-align: right;\n",
       "    }\n",
       "</style>\n",
       "<table border=\"1\" class=\"dataframe\">\n",
       "  <thead>\n",
       "    <tr style=\"text-align: right;\">\n",
       "      <th></th>\n",
       "      <th>timeStep</th>\n",
       "      <th>areaDensityCounting-PID5</th>\n",
       "      <th>areaDensityCounting-PID6</th>\n",
       "      <th>areaDensityCounting-PID7</th>\n",
       "      <th>areaDensityCounting-PID8</th>\n",
       "      <th>areaDensityCounting-PID9</th>\n",
       "      <th>areaDensityCounting-PID10</th>\n",
       "      <th>areaDensityCounting-PID11</th>\n",
       "      <th>areaDensityCounting-PID12</th>\n",
       "      <th>areaDensityCounting-PID13</th>\n",
       "    </tr>\n",
       "  </thead>\n",
       "  <tbody>\n",
       "    <tr>\n",
       "      <th>0</th>\n",
       "      <td>1</td>\n",
       "      <td>36</td>\n",
       "      <td>0</td>\n",
       "      <td>0</td>\n",
       "      <td>0</td>\n",
       "      <td>0</td>\n",
       "      <td>0</td>\n",
       "      <td>0</td>\n",
       "      <td>0</td>\n",
       "      <td>0</td>\n",
       "    </tr>\n",
       "    <tr>\n",
       "      <th>1</th>\n",
       "      <td>2</td>\n",
       "      <td>36</td>\n",
       "      <td>0</td>\n",
       "      <td>0</td>\n",
       "      <td>0</td>\n",
       "      <td>0</td>\n",
       "      <td>0</td>\n",
       "      <td>0</td>\n",
       "      <td>0</td>\n",
       "      <td>0</td>\n",
       "    </tr>\n",
       "    <tr>\n",
       "      <th>2</th>\n",
       "      <td>3</td>\n",
       "      <td>43</td>\n",
       "      <td>0</td>\n",
       "      <td>0</td>\n",
       "      <td>0</td>\n",
       "      <td>0</td>\n",
       "      <td>0</td>\n",
       "      <td>0</td>\n",
       "      <td>0</td>\n",
       "      <td>0</td>\n",
       "    </tr>\n",
       "    <tr>\n",
       "      <th>3</th>\n",
       "      <td>4</td>\n",
       "      <td>49</td>\n",
       "      <td>0</td>\n",
       "      <td>0</td>\n",
       "      <td>0</td>\n",
       "      <td>0</td>\n",
       "      <td>0</td>\n",
       "      <td>0</td>\n",
       "      <td>0</td>\n",
       "      <td>0</td>\n",
       "    </tr>\n",
       "    <tr>\n",
       "      <th>4</th>\n",
       "      <td>5</td>\n",
       "      <td>59</td>\n",
       "      <td>0</td>\n",
       "      <td>0</td>\n",
       "      <td>0</td>\n",
       "      <td>0</td>\n",
       "      <td>0</td>\n",
       "      <td>0</td>\n",
       "      <td>0</td>\n",
       "      <td>0</td>\n",
       "    </tr>\n",
       "  </tbody>\n",
       "</table>\n",
       "</div>"
      ],
      "text/plain": [
       "   timeStep  areaDensityCounting-PID5  areaDensityCounting-PID6  \\\n",
       "0         1                        36                         0   \n",
       "1         2                        36                         0   \n",
       "2         3                        43                         0   \n",
       "3         4                        49                         0   \n",
       "4         5                        59                         0   \n",
       "\n",
       "   areaDensityCounting-PID7  areaDensityCounting-PID8  \\\n",
       "0                         0                         0   \n",
       "1                         0                         0   \n",
       "2                         0                         0   \n",
       "3                         0                         0   \n",
       "4                         0                         0   \n",
       "\n",
       "   areaDensityCounting-PID9  areaDensityCounting-PID10  \\\n",
       "0                         0                          0   \n",
       "1                         0                          0   \n",
       "2                         0                          0   \n",
       "3                         0                          0   \n",
       "4                         0                          0   \n",
       "\n",
       "   areaDensityCounting-PID11  areaDensityCounting-PID12  \\\n",
       "0                          0                          0   \n",
       "1                          0                          0   \n",
       "2                          0                          0   \n",
       "3                          0                          0   \n",
       "4                          0                          0   \n",
       "\n",
       "   areaDensityCounting-PID13  \n",
       "0                          0  \n",
       "1                          0  \n",
       "2                          0  \n",
       "3                          0  \n",
       "4                          0  "
      ]
     },
     "execution_count": 4,
     "metadata": {},
     "output_type": "execute_result"
    }
   ],
   "source": [
    "data = read_data(FILENAME)\n",
    "data.head(5)"
   ]
  },
  {
   "cell_type": "code",
   "execution_count": 5,
   "id": "7ae4815a",
   "metadata": {},
   "outputs": [],
   "source": [
    "def form_data():\n",
    "    \"\"\"\n",
    "    Forms the data in a more readable, accessible format\n",
    "    :returns: y is the data itself where y_delayed (containing first 3 cols) is the data to be used for operations\n",
    "    \"\"\"\n",
    "    y1 = np.asarray(data['areaDensityCounting-PID5'])\n",
    "    y2 = np.asarray(data['areaDensityCounting-PID6'])\n",
    "    y3 = np.asarray(data['areaDensityCounting-PID7'])\n",
    "    y4 = np.asarray(data['areaDensityCounting-PID8'])\n",
    "    y5 = np.asarray(data['areaDensityCounting-PID9'])\n",
    "    y6 = np.asarray(data['areaDensityCounting-PID10'])\n",
    "    y7 = np.asarray(data['areaDensityCounting-PID11'])\n",
    "    y8 = np.asarray(data['areaDensityCounting-PID12'])\n",
    "    y9 = np.asarray(data['areaDensityCounting-PID13'])\n",
    "\n",
    "    # generate y(x)\n",
    "    y = [(y1[i], y2[i], y3[i], y4[i], y5[i], y6[i], y7[i], y8[i], y9[i]) for i in range(len(y1))]\n",
    "\n",
    "    # generate data for delay embedding\n",
    "    y_delayed = [(y1[i], y2[i], y3[i]) for i in range(len(y1))]\n",
    "    \n",
    "    return y, y_delayed"
   ]
  },
  {
   "cell_type": "code",
   "execution_count": 6,
   "id": "fe6bb6a9",
   "metadata": {},
   "outputs": [],
   "source": [
    "y, y_delayed = form_data()"
   ]
  },
  {
   "cell_type": "markdown",
   "id": "e530123d",
   "metadata": {},
   "source": [
    "#### Since it can be mapped locally to a one-dimensional Euclidean space (i.e. d=1), we need 2d+1=3 dimensions to embed it."
   ]
  },
  {
   "cell_type": "code",
   "execution_count": 7,
   "id": "ddc917a5",
   "metadata": {},
   "outputs": [],
   "source": [
    "# We set n=3 as to represent dimensions\n",
    "N = 3"
   ]
  },
  {
   "cell_type": "markdown",
   "id": "73c287df",
   "metadata": {},
   "source": [
    "## Generate windows"
   ]
  },
  {
   "cell_type": "code",
   "execution_count": 8,
   "id": "9fdddee7",
   "metadata": {
    "scrolled": true
   },
   "outputs": [],
   "source": [
    "def flatten(xss):\n",
    "    \"\"\"\n",
    "    Flatten values inside array\n",
    "    :param xss:    Array to be flattened\n",
    "    \"\"\"\n",
    "    return [x for xs in xss for x in xs]\n",
    "\n",
    "def generate_windows():\n",
    "    \"\"\"\n",
    "    Generates windows then writes the matrix to a file\n",
    "    \"\"\"\n",
    "    windows = [list() for _ in range(M)]\n",
    "\n",
    "    for row_ix in range(M):\n",
    "        windows[row_ix] = flatten(y_delayed[row_ix:row_ix+351])\n",
    "\n",
    "\n",
    "    np.savetxt(WINDOWS_FILENAME, windows, fmt='%i')"
   ]
  },
  {
   "cell_type": "code",
   "execution_count": 9,
   "id": "e97146a0",
   "metadata": {
    "scrolled": true
   },
   "outputs": [],
   "source": [
    "def run_pca(a):\n",
    "    \"\"\"\n",
    "    Run dimension reduction algorithm PCA then embeds the data for N components\n",
    "    :param a:  Matrix A containing data\n",
    "    :returns:  Data representation(state) with lower(N) dimensions\n",
    "    \"\"\"\n",
    "    pca = CustomPCA(a)\n",
    "    total_importance = 0.0\n",
    "    for i in range(N):\n",
    "        imp = pca.get_importance_of_k(i)\n",
    "        total_importance += imp\n",
    "        print(f'component {i} has importance {imp}')\n",
    "    print(f'Total importance of first {N} components is {total_importance}')\n",
    "    \n",
    "    \n",
    "    # reconstruct first N components\n",
    "    embedded_data = pca.reconstruct_first_k(N)\n",
    "    \n",
    "    return embedded_data"
   ]
  },
  {
   "cell_type": "code",
   "execution_count": 10,
   "id": "cda0e98d",
   "metadata": {},
   "outputs": [],
   "source": [
    "def simulate():\n",
    "    generate_windows()\n",
    "    A = read_text('windows.txt')\n",
    "    embedded_data = run_pca(A)\n",
    "    return embedded_data"
   ]
  },
  {
   "cell_type": "code",
   "execution_count": 11,
   "id": "0feea4b5",
   "metadata": {
    "scrolled": true
   },
   "outputs": [
    {
     "name": "stdout",
     "output_type": "stream",
     "text": [
      "Diagonal matrix values: [1.32742809e+05 9.60333992e+04 7.62257187e+04 ... 1.39235582e+01\n",
      " 1.37878974e+01 1.37649225e+01]\n",
      "component 0 has importance 44.5696521735527\n",
      "component 1 has importance 23.32715856898964\n",
      "component 2 has importance 14.696715731742097\n",
      "Total importance of first 3 components is 82.59352647428443\n"
     ]
    }
   ],
   "source": [
    "embedded_data = simulate()"
   ]
  },
  {
   "cell_type": "markdown",
   "id": "a0b61a11",
   "metadata": {},
   "source": [
    "### Part 2"
   ]
  },
  {
   "cell_type": "code",
   "execution_count": 16,
   "id": "ddad1ad1",
   "metadata": {
    "scrolled": true
   },
   "outputs": [],
   "source": [
    "def draw_plot(embedded_data):\n",
    "    for i in range(1, 10):\n",
    "        plt.scatter(embedded_data[:, 0], embedded_data[:, i], s=1, c=data[data.columns[i]][:10001])"
   ]
  },
  {
   "cell_type": "code",
   "execution_count": 17,
   "id": "7833faca",
   "metadata": {},
   "outputs": [
    {
     "data": {
      "image/png": "[encoded data removed]",
      "text/plain": [
       "<Figure size 432x288 with 1 Axes>"
      ]
     },
     "metadata": {
      "needs_background": "light"
     },
     "output_type": "display_data"
    }
   ],
   "source": [
    "draw_plot(embedded_data)"
   ]
  }
 ],
 "metadata": {
  "kernelspec": {
   "display_name": "Python 3 (ipykernel)",
   "language": "python",
   "name": "python3"
  },
  "language_info": {
   "codemirror_mode": {
    "name": "ipython",
    "version": 3
   },
   "file_extension": ".py",
   "mimetype": "text/x-python",
   "name": "python",
   "nbconvert_exporter": "python",
   "pygments_lexer": "ipython3",
   "version": "3.9.12"
  }
 },
 "nbformat": 4,
 "nbformat_minor": 5
}
