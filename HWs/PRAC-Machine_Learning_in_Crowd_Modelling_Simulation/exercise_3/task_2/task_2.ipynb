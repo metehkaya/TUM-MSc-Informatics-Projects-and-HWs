{
 "cells": [
  {
   "cell_type": "code",
   "execution_count": 1,
   "id": "13232b93",
   "metadata": {
    "pycharm": {
     "name": "#%%\n"
    }
   },
   "outputs": [],
   "source": [
    "# Imports\n",
    "import numpy as np\n",
    "import matplotlib as plt\n",
    "%matplotlib inline"
   ]
  },
  {
   "cell_type": "code",
   "execution_count": 2,
   "id": "83591c4a",
   "metadata": {
    "pycharm": {
     "name": "#%%\n"
    }
   },
   "outputs": [],
   "source": [
    "# Defining functions\n",
    "def first_system(alpha, x: float):\n",
    "    # cut first 10 digits in order to prevent overflow\n",
    "    decimal_digit_count = str(x)[::-1].find('.')\n",
    "    if decimal_digit_count > 10:\n",
    "        x = float(str(x)[:10])\n",
    "\n",
    "    dx = alpha - x ** 2\n",
    "    # update x\n",
    "    return x + dx * 0.01\n",
    "\n",
    "def second_system(alpha, x):\n",
    "    # cut first 10 digits in order to prevent overflow\n",
    "    decimal_digit_count = str(x)[::-1].find('.')\n",
    "    if decimal_digit_count > 10:\n",
    "        x = float(str(x)[:10])\n",
    "        \n",
    "    dx = alpha - 2 * x ** 2 - 3 \n",
    "    # update x\n",
    "    return x + dx * 0.01"
   ]
  },
  {
   "cell_type": "code",
   "execution_count": 3,
   "id": "c38d2be4",
   "metadata": {
    "pycharm": {
     "name": "#%%\n"
    }
   },
   "outputs": [],
   "source": [
    "def draw_bifurcation_diagram(ALPHA_RANGE, Y_AXIS_RANGE, function):\n",
    "    \"\"\"\n",
    "    Function to draw bifurcation diagram with the given options\n",
    "    @param ALPHA_RANGE: The range where alpha will iterate through\n",
    "    @param Y_AXIS_RANGE: The range to display in the Y-axis on the screen\n",
    "    @param function: Function to update x\n",
    "    \"\"\"\n",
    "    # declare amount of change for each iteration for alpha\n",
    "    alpha = ALPHA_RANGE[0]; d_alpha = 0.01\n",
    "\n",
    "    alphas = []\n",
    "    stable_path = []\n",
    "    unstable_path = []\n",
    "    epsilon = 0.01; x = epsilon\n",
    "    while alpha < ALPHA_RANGE[1]:\n",
    "        if alpha < 0 and function == first_system:\n",
    "            alpha += d_alpha\n",
    "            continue\n",
    "            \n",
    "        if alpha < 3 and function == second_system:\n",
    "            alpha += d_alpha\n",
    "            continue\n",
    "\n",
    "        # skip first 200 iterations to make x converge to the equilibrium\n",
    "        for _ in range(200): x = function(alpha, x)\n",
    "            \n",
    "        # for the next 1000 iterations, update x_next and try to come up with a path\n",
    "        for _ in range(1000):\n",
    "            x = function(alpha, x)\n",
    "            stable_path.append(x)\n",
    "            unstable_path.append(-x)\n",
    "            alphas.append(alpha)\n",
    "\n",
    "        # update alpha\n",
    "        alpha += d_alpha\n",
    "        \n",
    "        # increase x with a very small cons\n",
    "        x += epsilon\n",
    "\n",
    "        \n",
    "    # draw plot\n",
    "    plt.pyplot.scatter(alphas, stable_path, s=1, facecolor='0.1', lw = 0, c='b', label='Stable')\n",
    "    plt.pyplot.scatter(alphas, unstable_path, s=1, facecolor='0.1', lw = 0, c='r', label='Unstable')\n",
    "    plt.pyplot.legend(loc=\"best\")\n",
    "    plt.pyplot.title(function.__name__)\n",
    "    plt.pyplot.xlabel('alpha')\n",
    "    plt.pyplot.ylabel('dx/dt')\n",
    "    plt.pyplot.axis([ALPHA_RANGE[0], ALPHA_RANGE[1], Y_AXIS_RANGE[0], Y_AXIS_RANGE[1]])\n",
    "    plt.pyplot.show()"
   ]
  },
  {
   "cell_type": "code",
   "execution_count": 4,
   "id": "595c11a8",
   "metadata": {
    "pycharm": {
     "name": "#%%\n"
    }
   },
   "outputs": [],
   "source": [
    "def run():\n",
    "    \"\"\"\n",
    "    Gets input from user and runs the required function to draw bifurcation diagram\n",
    "    \"\"\"\n",
    "    flag = True\n",
    "    selection = int(input('For which system the bifurcation diagram will be drawn?\\n1- x_dot = alpha - x^2\\n2- x_dot = alpha - 2*x^2 - 3\\n'))\n",
    "    if selection == 1:\n",
    "        ALPHA_RANGE = [-1, 1]\n",
    "        function = first_system\n",
    "        Y_AXIS_LIMIT = [-1, 1]\n",
    "    elif selection == 2:\n",
    "        ALPHA_RANGE = [2, 8]\n",
    "        function = second_system\n",
    "        Y_AXIS_LIMIT = [-3, 3]\n",
    "    else:\n",
    "        print('Option must be either 1 or 2. Please run again.')\n",
    "        flag = False\n",
    "\n",
    "    if flag:\n",
    "        draw_bifurcation_diagram(ALPHA_RANGE, Y_AXIS_LIMIT, function)"
   ]
  },
  {
   "cell_type": "code",
   "execution_count": 5,
   "id": "ff6bd3e7",
   "metadata": {
    "scrolled": false
   },
   "outputs": [
    {
     "name": "stdout",
     "output_type": "stream",
     "text": [
      "For which system the bifurcation diagram will be drawn?\n",
      "1- x_dot = alpha - x^2\n",
      "2- x_dot = alpha - 2*x^2 - 3\n",
      "1\n"
     ]
    },
    {
     "data": {
      "image/png": "[encoded data removed]",
      "text/plain": [
       "<Figure size 432x288 with 1 Axes>"
      ]
     },
     "metadata": {
      "needs_background": "light"
     },
     "output_type": "display_data"
    }
   ],
   "source": [
    "# Run this cell to draw bifurcation diagrams\n",
    "\n",
    "run()"
   ]
  }
 ],
 "metadata": {
  "kernelspec": {
   "display_name": "Python 3 (ipykernel)",
   "language": "python",
   "name": "python3"
  },
  "language_info": {
   "codemirror_mode": {
    "name": "ipython",
    "version": 3
   },
   "file_extension": ".py",
   "mimetype": "text/x-python",
   "name": "python",
   "nbconvert_exporter": "python",
   "pygments_lexer": "ipython3",
   "version": "3.9.12"
  }
 },
 "nbformat": 4,
 "nbformat_minor": 5
}
