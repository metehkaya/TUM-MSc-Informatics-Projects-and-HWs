{
 "cells": [
  {
   "cell_type": "markdown",
   "id": "6d9af5f8-5915-4583-8df1-60cfe486c4d3",
   "metadata": {
    "pycharm": {
     "name": "#%% md\n"
    }
   },
   "source": [
    "# Exercise 1 - Group C\n"
   ]
  },
  {
   "cell_type": "markdown",
   "id": "75007386-fc5f-4d7f-9307-3d3982bacaa4",
   "metadata": {
    "pycharm": {
     "name": "#%% md\n"
    }
   },
   "source": [
    "## Import packages"
   ]
  },
  {
   "cell_type": "code",
   "execution_count": 1,
   "id": "c3e7c438-bc17-4cf3-ac56-aa858f2f5954",
   "metadata": {
    "pycharm": {
     "name": "#%%\n"
    }
   },
   "outputs": [
    {
     "name": "stdout",
     "output_type": "stream",
     "text": [
      "pygame 2.1.2 (SDL 2.0.18, Python 3.8.10)\n",
      "Hello from the pygame community. https://www.pygame.org/contribute.html\n"
     ]
    }
   ],
   "source": [
    "from time import sleep\n",
    "\n",
    "import pygame\n",
    "\n",
    "from controller import Controller\n",
    "from grid import Grid\n",
    "from path_calculator import PathCalculator\n",
    "from pygame_conf import PygameConfiguration\n",
    "\n",
    "%reload_ext autoreload\n",
    "%autoreload 2"
   ]
  },
  {
   "cell_type": "code",
   "execution_count": 2,
   "id": "b77544f4",
   "metadata": {
    "pycharm": {
     "name": "#%%\n"
    },
    "scrolled": true
   },
   "outputs": [],
   "source": [
    "# get configuration values\n",
    "pygame_conf = PygameConfiguration.instance()\n",
    "DISPLAY_DELTA_TIMESTAMP = pygame_conf.DISPLAY_DELTA_TIMESTAMP\n",
    "STOP_DISPLAY_AFTER_STUCK = pygame_conf.STOP_DISPLAY_AFTER_STUCK\n",
    "END_FREEZE = pygame_conf.END_FREEZE\n",
    "SS_START = pygame_conf.SS_START\n",
    "SS_FINAL = pygame_conf.SS_FINAL\n",
    "SS_PERIOD = pygame_conf.SS_PERIOD"
   ]
  },
  {
   "cell_type": "code",
   "execution_count": 3,
   "id": "9cc09674",
   "metadata": {
    "pycharm": {
     "name": "#%%\n"
    }
   },
   "outputs": [],
   "source": [
    "# initialize an empty grid object\n",
    "grid = Grid()\n",
    "\n",
    "path_calculator = PathCalculator(grid)\n",
    "path_calculator.dijkstra()\n",
    "path_calculator.find_best_adjacent_cells()\n",
    "\n",
    "# initial configuration, two pedestrians\n",
    "controller = Controller(grid, path_calculator)"
   ]
  },
  {
   "cell_type": "code",
   "execution_count": 4,
   "id": "8f2a407a",
   "metadata": {
    "pycharm": {
     "name": "#%%\n"
    }
   },
   "outputs": [
    {
     "name": "stdout",
     "output_type": "stream",
     "text": [
      "Pedestrian 17 has arrived to the target at 29.194306108831736.\n",
      "Pedestrian 18 has arrived to the target at 29.946185808079857.\n",
      "Pedestrian 19 has arrived to the target at 31.32094304473113.\n",
      "Pedestrian 20 has arrived to the target at 32.07282274397925.\n",
      "Pedestrian 13 has arrived to the target at 32.2499452065761.\n",
      "Pedestrian 14 has arrived to the target at 34.06514337377391.\n",
      "Pedestrian 15 has arrived to the target at 34.817023073022035.\n",
      "Pedestrian 9 has arrived to the target at 35.30558430432046.\n",
      "Pedestrian 16 has arrived to the target at 36.191780309673305.\n",
      "Pedestrian 10 has arrived to the target at 37.12078247151828.\n",
      "Pedestrian 11 has arrived to the target at 37.872662170766404.\n",
      "Pedestrian 12 has arrived to the target at 39.24741940741767.\n",
      "Pedestrian 5 has arrived to the target at 39.42454187001452.\n",
      "Pedestrian 7 has arrived to the target at 40.928301268510765.\n",
      "Pedestrian 6 has arrived to the target at 41.680180967758886.\n",
      "Pedestrian 8 has arrived to the target at 41.8626175746155.\n",
      "Pedestrian 2 has arrived to the target at 43.2220160708561.\n",
      "Pedestrian 1 has arrived to the target at 44.23190009379415.\n",
      "Pedestrian 3 has arrived to the target at 44.59677330750736.\n",
      "Pedestrian 4 has arrived to the target at 46.04709826099197.\n"
     ]
    }
   ],
   "source": [
    "# initialization for display\n",
    "current_timestamp = .0\n",
    "close_pygame = False\n",
    "screen = pygame_conf.SCREEN\n",
    "\n",
    "# draw the initial grid and possibly save it as an image\n",
    "grid.draw_grid(SS_START)\n",
    "\n",
    "step_limit = pygame_conf.STEP_LIMIT if pygame_conf.STEP_LIMIT else 0\n",
    "current_step_count = 0\n",
    "# display the grid at each timestamp\n",
    "while not close_pygame and not all(pedestrian.has_arrived or (STOP_DISPLAY_AFTER_STUCK and pedestrian.has_stuck) for pedestrian in grid.pedestrians):\n",
    "    controller.make_move(current_timestamp)\n",
    "    screenshot = False\n",
    "    if SS_PERIOD > 0 and current_step_count > 0 and current_step_count % SS_PERIOD == 0:\n",
    "        screenshot = True\n",
    "    grid.draw_grid(screenshot)\n",
    "    sleep(DISPLAY_DELTA_TIMESTAMP)\n",
    "    current_timestamp += DISPLAY_DELTA_TIMESTAMP\n",
    "    current_step_count += 1\n",
    "\n",
    "    for event in pygame.event.get():\n",
    "        if event.type == pygame.QUIT:\n",
    "            close_pygame = True\n",
    "            break\n",
    "            \n",
    "while current_step_count <= step_limit:\n",
    "    if grid.TARGET_CELL.pedestrians_on_target:\n",
    "        print('Pedestrian(s) ' + ','.join([str(pedestrian_id) for pedestrian_id in grid.TARGET_CELL.pedestrians_on_target]) + ' is/are waiting on the target.')\n",
    "    else:\n",
    "        print('No one has arrived to the target yet.')\n",
    "    current_step_count += 1\n",
    "\n",
    "# draw the final grid and possibly save it as an image\n",
    "grid.draw_grid(SS_FINAL)\n",
    "\n",
    "if not close_pygame and END_FREEZE > 0:\n",
    "    sleep(END_FREEZE)\n",
    "\n",
    "# end the simulation\n",
    "pygame.display.quit()\n",
    "pygame.quit()\n",
    "exit()"
   ]
  }
 ],
 "metadata": {
  "kernelspec": {
   "display_name": "Python 3 (ipykernel)",
   "language": "python",
   "name": "python3"
  },
  "language_info": {
   "codemirror_mode": {
    "name": "ipython",
    "version": 3
   },
   "file_extension": ".py",
   "mimetype": "text/x-python",
   "name": "python",
   "nbconvert_exporter": "python",
   "pygments_lexer": "ipython3",
   "version": "3.8.12"
  }
 },
 "nbformat": 4,
 "nbformat_minor": 5
}